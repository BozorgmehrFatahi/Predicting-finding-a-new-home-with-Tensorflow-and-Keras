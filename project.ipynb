{
  "cells": [
    {
      "cell_type": "markdown",
      "source": [
        "# Import libraries"
      ],
      "metadata": {
        "id": "PG61dCb0AIU7"
      }
    },
    {
      "cell_type": "code",
      "execution_count": 1,
      "metadata": {
        "id": "4lddftZAf5Bv"
      },
      "outputs": [],
      "source": [
        "import numpy as np\n",
        "import pandas as pd\n",
        "import tensorflow as tf\n",
        "import os\n",
        "os.environ[\"KERAS_BACKEND\"] = \"tensorflow\"\n",
        "import keras\n",
        "from sklearn.metrics import f1_score\n",
        "from sklearn.preprocessing import LabelEncoder\n",
        "from sklearn.model_selection import train_test_split"
      ]
    },
    {
      "cell_type": "markdown",
      "metadata": {
        "id": "v8smqKiD3189"
      },
      "source": [
        "\n",
        "</p>\n",
        "\n",
        "\n",
        "<center>\n",
        "<div dir=rtl style=\"direction: rtl;line-height:200%;font-family:vazir;font-size:medium\">\n",
        "<font face=\"vazir\" size=3>\n",
        "\n",
        "|ستون|توضیحات|\n",
        "|:------:|:---:|\n",
        "|<code>Type</code>| نوع حیوان|\n",
        "|<code>Age</code>| سن حیوان خانگی (به ماه) هنگام لیست شدن|\n",
        "|<code>Breed1</code>|نژاد اصلی حیوان خانگی|\n",
        "|<code>Gender</code>|جنسیت حیوان خانگی|\n",
        "|<code>Color1</code>|رنگ اصلی حیوان خانگی|\n",
        "|<code>Color2</code>|رنگ دوم حیوان خانگی (در صورت وجود)|\n",
        "|<code>MaturitySize</code>|اندازه|\n",
        "|<code>FurLength</code>|طول خز|\n",
        "|<code>Vaccinated</code>|وضعیت واکسینه شدن|\n",
        "|<code>Sterilized</code>|وضعیت انگل‌زدایی شدن|\n",
        "|<code>Health</code>|وضعیت سلامتی|\n",
        "|<code>Fee</code>|هزینه|\n",
        "|<code>Description</code>|توضیحات|\n",
        "|<code>PhotoAmt</code>|تعداد عکس بارگذاری شده|\n",
        "|<code>AdoptionSpeed</code>|سرعت پذیرش (توضیح این اعداد در ادامه آمده است)|\n",
        "\n",
        "<br>\n",
        "\n",
        "|توضیحات|سرعت پذیرش|\n",
        "|:------:|:---:|\n",
        "|حیوان خانگی در همان روزی که لیست شده به سرپرستی پذیرفته شد.|<code>0</code>|\n",
        "|\tحیوان خانگی بین ۱ تا ۷ روز (هفته اول) پس از لیست شدن به سرپرستی پذیرفته شد.|<code>1</code>|\n",
        "|حیوان خانگی بین ۸ تا ۳۰ روز (ماه اول) پس از لیست شدن به سرپرستی پذیرفته شد.|<code>2</code>|\n",
        "|حیوان خانگی بین ۳۱ تا ۹۰ روز (ماه دوم و سوم) پس از لیست شدن به سرپرستی پذیرفته شد.|<code>3</code>|\n",
        "|پس از ۱۰۰ روز لیست شدن، حیوان خانگی به سرپرستی پذیرفته نشد.|<code>4</code>|\n",
        "\n",
        "</font>\n",
        "</div>\n",
        "</center>"
      ]
    },
    {
      "cell_type": "code",
      "source": [
        "from google.colab import drive\n",
        "drive.mount('/content/drive')"
      ],
      "metadata": {
        "colab": {
          "base_uri": "https://localhost:8080/"
        },
        "id": "iQvzJ_Yslb4g",
        "outputId": "0680addc-d96f-4934-a30f-7f5b4eb794cd"
      },
      "execution_count": 2,
      "outputs": [
        {
          "output_type": "stream",
          "name": "stdout",
          "text": [
            "Mounted at /content/drive\n"
          ]
        }
      ]
    },
    {
      "cell_type": "markdown",
      "source": [
        "# Data set reading"
      ],
      "metadata": {
        "id": "LvQGEQ94AX_4"
      }
    },
    {
      "cell_type": "code",
      "execution_count": 21,
      "metadata": {
        "id": "huIChr-93hDq"
      },
      "outputs": [],
      "source": [
        "# Load the train data\n",
        "train = pd.read_csv('/content/drive/MyDrive/Quera/new_home_tensorflow/data/petfinder_train.csv')"
      ]
    },
    {
      "cell_type": "code",
      "execution_count": 22,
      "metadata": {
        "id": "tBg8FlMEf5By",
        "colab": {
          "base_uri": "https://localhost:8080/",
          "height": 293
        },
        "outputId": "e9d5f2b4-ebac-4cb2-e9e7-b0c06392cdf6"
      },
      "outputs": [
        {
          "output_type": "execute_result",
          "data": {
            "text/plain": [
              "  Type  Age                Breed1  Gender Color1    Color2 MaturitySize  \\\n",
              "0  Cat    3                 Tabby    Male  Black     White        Small   \n",
              "1  Cat    1  Domestic Medium Hair    Male  Black     Brown       Medium   \n",
              "2  Dog    1           Mixed Breed    Male  Brown     White       Medium   \n",
              "3  Dog    4           Mixed Breed  Female  Black     Brown       Medium   \n",
              "4  Dog    1           Mixed Breed    Male  Black  No Color       Medium   \n",
              "\n",
              "  FurLength Vaccinated Sterilized   Health  Fee  \\\n",
              "0     Short         No         No  Healthy  100   \n",
              "1    Medium   Not Sure   Not Sure  Healthy    0   \n",
              "2    Medium        Yes         No  Healthy    0   \n",
              "3     Short        Yes         No  Healthy  150   \n",
              "4     Short         No         No  Healthy    0   \n",
              "\n",
              "                                         Description  PhotoAmt  AdoptionSpeed  \n",
              "0  Nibble is a 3+ month old ball of cuteness. He ...         1              2  \n",
              "1  I just found it alone yesterday near my apartm...         2              0  \n",
              "2  Their pregnant mother was dumped by her irresp...         7              3  \n",
              "3  Good guard dog, very alert, active, obedience ...         8              2  \n",
              "4  This handsome yet cute boy is up for adoption....         3              2  "
            ],
            "text/html": [
              "\n",
              "  <div id=\"df-054c4e12-442f-45e7-ad99-df683c92899d\" class=\"colab-df-container\">\n",
              "    <div>\n",
              "<style scoped>\n",
              "    .dataframe tbody tr th:only-of-type {\n",
              "        vertical-align: middle;\n",
              "    }\n",
              "\n",
              "    .dataframe tbody tr th {\n",
              "        vertical-align: top;\n",
              "    }\n",
              "\n",
              "    .dataframe thead th {\n",
              "        text-align: right;\n",
              "    }\n",
              "</style>\n",
              "<table border=\"1\" class=\"dataframe\">\n",
              "  <thead>\n",
              "    <tr style=\"text-align: right;\">\n",
              "      <th></th>\n",
              "      <th>Type</th>\n",
              "      <th>Age</th>\n",
              "      <th>Breed1</th>\n",
              "      <th>Gender</th>\n",
              "      <th>Color1</th>\n",
              "      <th>Color2</th>\n",
              "      <th>MaturitySize</th>\n",
              "      <th>FurLength</th>\n",
              "      <th>Vaccinated</th>\n",
              "      <th>Sterilized</th>\n",
              "      <th>Health</th>\n",
              "      <th>Fee</th>\n",
              "      <th>Description</th>\n",
              "      <th>PhotoAmt</th>\n",
              "      <th>AdoptionSpeed</th>\n",
              "    </tr>\n",
              "  </thead>\n",
              "  <tbody>\n",
              "    <tr>\n",
              "      <th>0</th>\n",
              "      <td>Cat</td>\n",
              "      <td>3</td>\n",
              "      <td>Tabby</td>\n",
              "      <td>Male</td>\n",
              "      <td>Black</td>\n",
              "      <td>White</td>\n",
              "      <td>Small</td>\n",
              "      <td>Short</td>\n",
              "      <td>No</td>\n",
              "      <td>No</td>\n",
              "      <td>Healthy</td>\n",
              "      <td>100</td>\n",
              "      <td>Nibble is a 3+ month old ball of cuteness. He ...</td>\n",
              "      <td>1</td>\n",
              "      <td>2</td>\n",
              "    </tr>\n",
              "    <tr>\n",
              "      <th>1</th>\n",
              "      <td>Cat</td>\n",
              "      <td>1</td>\n",
              "      <td>Domestic Medium Hair</td>\n",
              "      <td>Male</td>\n",
              "      <td>Black</td>\n",
              "      <td>Brown</td>\n",
              "      <td>Medium</td>\n",
              "      <td>Medium</td>\n",
              "      <td>Not Sure</td>\n",
              "      <td>Not Sure</td>\n",
              "      <td>Healthy</td>\n",
              "      <td>0</td>\n",
              "      <td>I just found it alone yesterday near my apartm...</td>\n",
              "      <td>2</td>\n",
              "      <td>0</td>\n",
              "    </tr>\n",
              "    <tr>\n",
              "      <th>2</th>\n",
              "      <td>Dog</td>\n",
              "      <td>1</td>\n",
              "      <td>Mixed Breed</td>\n",
              "      <td>Male</td>\n",
              "      <td>Brown</td>\n",
              "      <td>White</td>\n",
              "      <td>Medium</td>\n",
              "      <td>Medium</td>\n",
              "      <td>Yes</td>\n",
              "      <td>No</td>\n",
              "      <td>Healthy</td>\n",
              "      <td>0</td>\n",
              "      <td>Their pregnant mother was dumped by her irresp...</td>\n",
              "      <td>7</td>\n",
              "      <td>3</td>\n",
              "    </tr>\n",
              "    <tr>\n",
              "      <th>3</th>\n",
              "      <td>Dog</td>\n",
              "      <td>4</td>\n",
              "      <td>Mixed Breed</td>\n",
              "      <td>Female</td>\n",
              "      <td>Black</td>\n",
              "      <td>Brown</td>\n",
              "      <td>Medium</td>\n",
              "      <td>Short</td>\n",
              "      <td>Yes</td>\n",
              "      <td>No</td>\n",
              "      <td>Healthy</td>\n",
              "      <td>150</td>\n",
              "      <td>Good guard dog, very alert, active, obedience ...</td>\n",
              "      <td>8</td>\n",
              "      <td>2</td>\n",
              "    </tr>\n",
              "    <tr>\n",
              "      <th>4</th>\n",
              "      <td>Dog</td>\n",
              "      <td>1</td>\n",
              "      <td>Mixed Breed</td>\n",
              "      <td>Male</td>\n",
              "      <td>Black</td>\n",
              "      <td>No Color</td>\n",
              "      <td>Medium</td>\n",
              "      <td>Short</td>\n",
              "      <td>No</td>\n",
              "      <td>No</td>\n",
              "      <td>Healthy</td>\n",
              "      <td>0</td>\n",
              "      <td>This handsome yet cute boy is up for adoption....</td>\n",
              "      <td>3</td>\n",
              "      <td>2</td>\n",
              "    </tr>\n",
              "  </tbody>\n",
              "</table>\n",
              "</div>\n",
              "    <div class=\"colab-df-buttons\">\n",
              "\n",
              "  <div class=\"colab-df-container\">\n",
              "    <button class=\"colab-df-convert\" onclick=\"convertToInteractive('df-054c4e12-442f-45e7-ad99-df683c92899d')\"\n",
              "            title=\"Convert this dataframe to an interactive table.\"\n",
              "            style=\"display:none;\">\n",
              "\n",
              "  <svg xmlns=\"http://www.w3.org/2000/svg\" height=\"24px\" viewBox=\"0 -960 960 960\">\n",
              "    <path d=\"M120-120v-720h720v720H120Zm60-500h600v-160H180v160Zm220 220h160v-160H400v160Zm0 220h160v-160H400v160ZM180-400h160v-160H180v160Zm440 0h160v-160H620v160ZM180-180h160v-160H180v160Zm440 0h160v-160H620v160Z\"/>\n",
              "  </svg>\n",
              "    </button>\n",
              "\n",
              "  <style>\n",
              "    .colab-df-container {\n",
              "      display:flex;\n",
              "      gap: 12px;\n",
              "    }\n",
              "\n",
              "    .colab-df-convert {\n",
              "      background-color: #E8F0FE;\n",
              "      border: none;\n",
              "      border-radius: 50%;\n",
              "      cursor: pointer;\n",
              "      display: none;\n",
              "      fill: #1967D2;\n",
              "      height: 32px;\n",
              "      padding: 0 0 0 0;\n",
              "      width: 32px;\n",
              "    }\n",
              "\n",
              "    .colab-df-convert:hover {\n",
              "      background-color: #E2EBFA;\n",
              "      box-shadow: 0px 1px 2px rgba(60, 64, 67, 0.3), 0px 1px 3px 1px rgba(60, 64, 67, 0.15);\n",
              "      fill: #174EA6;\n",
              "    }\n",
              "\n",
              "    .colab-df-buttons div {\n",
              "      margin-bottom: 4px;\n",
              "    }\n",
              "\n",
              "    [theme=dark] .colab-df-convert {\n",
              "      background-color: #3B4455;\n",
              "      fill: #D2E3FC;\n",
              "    }\n",
              "\n",
              "    [theme=dark] .colab-df-convert:hover {\n",
              "      background-color: #434B5C;\n",
              "      box-shadow: 0px 1px 3px 1px rgba(0, 0, 0, 0.15);\n",
              "      filter: drop-shadow(0px 1px 2px rgba(0, 0, 0, 0.3));\n",
              "      fill: #FFFFFF;\n",
              "    }\n",
              "  </style>\n",
              "\n",
              "    <script>\n",
              "      const buttonEl =\n",
              "        document.querySelector('#df-054c4e12-442f-45e7-ad99-df683c92899d button.colab-df-convert');\n",
              "      buttonEl.style.display =\n",
              "        google.colab.kernel.accessAllowed ? 'block' : 'none';\n",
              "\n",
              "      async function convertToInteractive(key) {\n",
              "        const element = document.querySelector('#df-054c4e12-442f-45e7-ad99-df683c92899d');\n",
              "        const dataTable =\n",
              "          await google.colab.kernel.invokeFunction('convertToInteractive',\n",
              "                                                    [key], {});\n",
              "        if (!dataTable) return;\n",
              "\n",
              "        const docLinkHtml = 'Like what you see? Visit the ' +\n",
              "          '<a target=\"_blank\" href=https://colab.research.google.com/notebooks/data_table.ipynb>data table notebook</a>'\n",
              "          + ' to learn more about interactive tables.';\n",
              "        element.innerHTML = '';\n",
              "        dataTable['output_type'] = 'display_data';\n",
              "        await google.colab.output.renderOutput(dataTable, element);\n",
              "        const docLink = document.createElement('div');\n",
              "        docLink.innerHTML = docLinkHtml;\n",
              "        element.appendChild(docLink);\n",
              "      }\n",
              "    </script>\n",
              "  </div>\n",
              "\n",
              "\n",
              "<div id=\"df-4da7de97-0897-456e-9ce0-2addb827a50c\">\n",
              "  <button class=\"colab-df-quickchart\" onclick=\"quickchart('df-4da7de97-0897-456e-9ce0-2addb827a50c')\"\n",
              "            title=\"Suggest charts\"\n",
              "            style=\"display:none;\">\n",
              "\n",
              "<svg xmlns=\"http://www.w3.org/2000/svg\" height=\"24px\"viewBox=\"0 0 24 24\"\n",
              "     width=\"24px\">\n",
              "    <g>\n",
              "        <path d=\"M19 3H5c-1.1 0-2 .9-2 2v14c0 1.1.9 2 2 2h14c1.1 0 2-.9 2-2V5c0-1.1-.9-2-2-2zM9 17H7v-7h2v7zm4 0h-2V7h2v10zm4 0h-2v-4h2v4z\"/>\n",
              "    </g>\n",
              "</svg>\n",
              "  </button>\n",
              "\n",
              "<style>\n",
              "  .colab-df-quickchart {\n",
              "      --bg-color: #E8F0FE;\n",
              "      --fill-color: #1967D2;\n",
              "      --hover-bg-color: #E2EBFA;\n",
              "      --hover-fill-color: #174EA6;\n",
              "      --disabled-fill-color: #AAA;\n",
              "      --disabled-bg-color: #DDD;\n",
              "  }\n",
              "\n",
              "  [theme=dark] .colab-df-quickchart {\n",
              "      --bg-color: #3B4455;\n",
              "      --fill-color: #D2E3FC;\n",
              "      --hover-bg-color: #434B5C;\n",
              "      --hover-fill-color: #FFFFFF;\n",
              "      --disabled-bg-color: #3B4455;\n",
              "      --disabled-fill-color: #666;\n",
              "  }\n",
              "\n",
              "  .colab-df-quickchart {\n",
              "    background-color: var(--bg-color);\n",
              "    border: none;\n",
              "    border-radius: 50%;\n",
              "    cursor: pointer;\n",
              "    display: none;\n",
              "    fill: var(--fill-color);\n",
              "    height: 32px;\n",
              "    padding: 0;\n",
              "    width: 32px;\n",
              "  }\n",
              "\n",
              "  .colab-df-quickchart:hover {\n",
              "    background-color: var(--hover-bg-color);\n",
              "    box-shadow: 0 1px 2px rgba(60, 64, 67, 0.3), 0 1px 3px 1px rgba(60, 64, 67, 0.15);\n",
              "    fill: var(--button-hover-fill-color);\n",
              "  }\n",
              "\n",
              "  .colab-df-quickchart-complete:disabled,\n",
              "  .colab-df-quickchart-complete:disabled:hover {\n",
              "    background-color: var(--disabled-bg-color);\n",
              "    fill: var(--disabled-fill-color);\n",
              "    box-shadow: none;\n",
              "  }\n",
              "\n",
              "  .colab-df-spinner {\n",
              "    border: 2px solid var(--fill-color);\n",
              "    border-color: transparent;\n",
              "    border-bottom-color: var(--fill-color);\n",
              "    animation:\n",
              "      spin 1s steps(1) infinite;\n",
              "  }\n",
              "\n",
              "  @keyframes spin {\n",
              "    0% {\n",
              "      border-color: transparent;\n",
              "      border-bottom-color: var(--fill-color);\n",
              "      border-left-color: var(--fill-color);\n",
              "    }\n",
              "    20% {\n",
              "      border-color: transparent;\n",
              "      border-left-color: var(--fill-color);\n",
              "      border-top-color: var(--fill-color);\n",
              "    }\n",
              "    30% {\n",
              "      border-color: transparent;\n",
              "      border-left-color: var(--fill-color);\n",
              "      border-top-color: var(--fill-color);\n",
              "      border-right-color: var(--fill-color);\n",
              "    }\n",
              "    40% {\n",
              "      border-color: transparent;\n",
              "      border-right-color: var(--fill-color);\n",
              "      border-top-color: var(--fill-color);\n",
              "    }\n",
              "    60% {\n",
              "      border-color: transparent;\n",
              "      border-right-color: var(--fill-color);\n",
              "    }\n",
              "    80% {\n",
              "      border-color: transparent;\n",
              "      border-right-color: var(--fill-color);\n",
              "      border-bottom-color: var(--fill-color);\n",
              "    }\n",
              "    90% {\n",
              "      border-color: transparent;\n",
              "      border-bottom-color: var(--fill-color);\n",
              "    }\n",
              "  }\n",
              "</style>\n",
              "\n",
              "  <script>\n",
              "    async function quickchart(key) {\n",
              "      const quickchartButtonEl =\n",
              "        document.querySelector('#' + key + ' button');\n",
              "      quickchartButtonEl.disabled = true;  // To prevent multiple clicks.\n",
              "      quickchartButtonEl.classList.add('colab-df-spinner');\n",
              "      try {\n",
              "        const charts = await google.colab.kernel.invokeFunction(\n",
              "            'suggestCharts', [key], {});\n",
              "      } catch (error) {\n",
              "        console.error('Error during call to suggestCharts:', error);\n",
              "      }\n",
              "      quickchartButtonEl.classList.remove('colab-df-spinner');\n",
              "      quickchartButtonEl.classList.add('colab-df-quickchart-complete');\n",
              "    }\n",
              "    (() => {\n",
              "      let quickchartButtonEl =\n",
              "        document.querySelector('#df-4da7de97-0897-456e-9ce0-2addb827a50c button');\n",
              "      quickchartButtonEl.style.display =\n",
              "        google.colab.kernel.accessAllowed ? 'block' : 'none';\n",
              "    })();\n",
              "  </script>\n",
              "</div>\n",
              "    </div>\n",
              "  </div>\n"
            ],
            "application/vnd.google.colaboratory.intrinsic+json": {
              "type": "dataframe",
              "variable_name": "train",
              "summary": "{\n  \"name\": \"train\",\n  \"rows\": 10537,\n  \"fields\": [\n    {\n      \"column\": \"Type\",\n      \"properties\": {\n        \"dtype\": \"category\",\n        \"num_unique_values\": 2,\n        \"samples\": [\n          \"Dog\",\n          \"Cat\"\n        ],\n        \"semantic_type\": \"\",\n        \"description\": \"\"\n      }\n    },\n    {\n      \"column\": \"Age\",\n      \"properties\": {\n        \"dtype\": \"number\",\n        \"std\": 19,\n        \"min\": 0,\n        \"max\": 255,\n        \"num_unique_values\": 105,\n        \"samples\": [\n          20,\n          26\n        ],\n        \"semantic_type\": \"\",\n        \"description\": \"\"\n      }\n    },\n    {\n      \"column\": \"Breed1\",\n      \"properties\": {\n        \"dtype\": \"category\",\n        \"num_unique_values\": 165,\n        \"samples\": [\n          \"Basenji\",\n          \"Weimaraner\"\n        ],\n        \"semantic_type\": \"\",\n        \"description\": \"\"\n      }\n    },\n    {\n      \"column\": \"Gender\",\n      \"properties\": {\n        \"dtype\": \"category\",\n        \"num_unique_values\": 2,\n        \"samples\": [\n          \"Female\",\n          \"Male\"\n        ],\n        \"semantic_type\": \"\",\n        \"description\": \"\"\n      }\n    },\n    {\n      \"column\": \"Color1\",\n      \"properties\": {\n        \"dtype\": \"category\",\n        \"num_unique_values\": 7,\n        \"samples\": [\n          \"Black\",\n          \"Brown\"\n        ],\n        \"semantic_type\": \"\",\n        \"description\": \"\"\n      }\n    },\n    {\n      \"column\": \"Color2\",\n      \"properties\": {\n        \"dtype\": \"category\",\n        \"num_unique_values\": 7,\n        \"samples\": [\n          \"White\",\n          \"Brown\"\n        ],\n        \"semantic_type\": \"\",\n        \"description\": \"\"\n      }\n    },\n    {\n      \"column\": \"MaturitySize\",\n      \"properties\": {\n        \"dtype\": \"category\",\n        \"num_unique_values\": 3,\n        \"samples\": [\n          \"Small\",\n          \"Medium\"\n        ],\n        \"semantic_type\": \"\",\n        \"description\": \"\"\n      }\n    },\n    {\n      \"column\": \"FurLength\",\n      \"properties\": {\n        \"dtype\": \"category\",\n        \"num_unique_values\": 3,\n        \"samples\": [\n          \"Short\",\n          \"Medium\"\n        ],\n        \"semantic_type\": \"\",\n        \"description\": \"\"\n      }\n    },\n    {\n      \"column\": \"Vaccinated\",\n      \"properties\": {\n        \"dtype\": \"category\",\n        \"num_unique_values\": 3,\n        \"samples\": [\n          \"No\",\n          \"Not Sure\"\n        ],\n        \"semantic_type\": \"\",\n        \"description\": \"\"\n      }\n    },\n    {\n      \"column\": \"Sterilized\",\n      \"properties\": {\n        \"dtype\": \"category\",\n        \"num_unique_values\": 3,\n        \"samples\": [\n          \"No\",\n          \"Not Sure\"\n        ],\n        \"semantic_type\": \"\",\n        \"description\": \"\"\n      }\n    },\n    {\n      \"column\": \"Health\",\n      \"properties\": {\n        \"dtype\": \"category\",\n        \"num_unique_values\": 3,\n        \"samples\": [\n          \"Healthy\",\n          \"Minor Injury\"\n        ],\n        \"semantic_type\": \"\",\n        \"description\": \"\"\n      }\n    },\n    {\n      \"column\": \"Fee\",\n      \"properties\": {\n        \"dtype\": \"number\",\n        \"std\": 80,\n        \"min\": 0,\n        \"max\": 2000,\n        \"num_unique_values\": 64,\n        \"samples\": [\n          380,\n          235\n        ],\n        \"semantic_type\": \"\",\n        \"description\": \"\"\n      }\n    },\n    {\n      \"column\": \"Description\",\n      \"properties\": {\n        \"dtype\": \"string\",\n        \"num_unique_values\": 9770,\n        \"samples\": [\n          \"3 puppies siblings found in kepong. Very active friendly and bundle of joy for adoption. Adopter must be willing to spay later puppy needs a loving home.\",\n          \"Active and need to be company, has lost left eye due to fighting. Reason being open for adopt due to he is unable to match with my other dog and I just got new born baby. Feel free contact for more info.\"\n        ],\n        \"semantic_type\": \"\",\n        \"description\": \"\"\n      }\n    },\n    {\n      \"column\": \"PhotoAmt\",\n      \"properties\": {\n        \"dtype\": \"number\",\n        \"std\": 3,\n        \"min\": 0,\n        \"max\": 30,\n        \"num_unique_values\": 31,\n        \"samples\": [\n          22,\n          9\n        ],\n        \"semantic_type\": \"\",\n        \"description\": \"\"\n      }\n    },\n    {\n      \"column\": \"AdoptionSpeed\",\n      \"properties\": {\n        \"dtype\": \"number\",\n        \"std\": 1,\n        \"min\": 0,\n        \"max\": 4,\n        \"num_unique_values\": 5,\n        \"samples\": [\n          0,\n          4\n        ],\n        \"semantic_type\": \"\",\n        \"description\": \"\"\n      }\n    }\n  ]\n}"
            }
          },
          "metadata": {},
          "execution_count": 22
        }
      ],
      "source": [
        "train.head()"
      ]
    },
    {
      "cell_type": "code",
      "execution_count": 23,
      "metadata": {
        "id": "nKP7FU753j_L",
        "colab": {
          "base_uri": "https://localhost:8080/"
        },
        "outputId": "e4bd6926-8e1a-45fc-d3c0-ede787dc3558"
      },
      "outputs": [
        {
          "output_type": "stream",
          "name": "stdout",
          "text": [
            "<class 'pandas.core.frame.DataFrame'>\n",
            "RangeIndex: 10537 entries, 0 to 10536\n",
            "Data columns (total 15 columns):\n",
            " #   Column         Non-Null Count  Dtype \n",
            "---  ------         --------------  ----- \n",
            " 0   Type           10537 non-null  object\n",
            " 1   Age            10537 non-null  int64 \n",
            " 2   Breed1         10537 non-null  object\n",
            " 3   Gender         10537 non-null  object\n",
            " 4   Color1         10537 non-null  object\n",
            " 5   Color2         10537 non-null  object\n",
            " 6   MaturitySize   10537 non-null  object\n",
            " 7   FurLength      10537 non-null  object\n",
            " 8   Vaccinated     10537 non-null  object\n",
            " 9   Sterilized     10537 non-null  object\n",
            " 10  Health         10537 non-null  object\n",
            " 11  Fee            10537 non-null  int64 \n",
            " 12  Description    10528 non-null  object\n",
            " 13  PhotoAmt       10537 non-null  int64 \n",
            " 14  AdoptionSpeed  10537 non-null  int64 \n",
            "dtypes: int64(4), object(11)\n",
            "memory usage: 1.2+ MB\n"
          ]
        }
      ],
      "source": [
        "train.info()"
      ]
    },
    {
      "cell_type": "markdown",
      "source": [
        "# Preprocessing"
      ],
      "metadata": {
        "id": "-PmOkKLcAdr6"
      }
    },
    {
      "cell_type": "code",
      "execution_count": 24,
      "metadata": {
        "id": "byXI0LWzgxQR"
      },
      "outputs": [],
      "source": [
        "mapping={0:1,1:1,2:1,3:1,4:0}\n",
        "\n",
        "train['Target'] = train['AdoptionSpeed'].map(mapping)"
      ]
    },
    {
      "cell_type": "code",
      "execution_count": 25,
      "metadata": {
        "id": "JwIXEWyQjImO"
      },
      "outputs": [],
      "source": [
        "train.drop(columns = ['AdoptionSpeed', 'Description'], inplace = True)"
      ]
    },
    {
      "cell_type": "code",
      "execution_count": 26,
      "metadata": {
        "id": "KB5V1APOf5B0",
        "colab": {
          "base_uri": "https://localhost:8080/"
        },
        "outputId": "37a44abc-0fe6-429e-8d1e-1798694c2d2c"
      },
      "outputs": [
        {
          "output_type": "stream",
          "name": "stdout",
          "text": [
            "<class 'pandas.core.frame.DataFrame'>\n",
            "RangeIndex: 10537 entries, 0 to 10536\n",
            "Data columns (total 14 columns):\n",
            " #   Column        Non-Null Count  Dtype \n",
            "---  ------        --------------  ----- \n",
            " 0   Type          10537 non-null  object\n",
            " 1   Age           10537 non-null  int64 \n",
            " 2   Breed1        10537 non-null  object\n",
            " 3   Gender        10537 non-null  object\n",
            " 4   Color1        10537 non-null  object\n",
            " 5   Color2        10537 non-null  object\n",
            " 6   MaturitySize  10537 non-null  object\n",
            " 7   FurLength     10537 non-null  object\n",
            " 8   Vaccinated    10537 non-null  object\n",
            " 9   Sterilized    10537 non-null  object\n",
            " 10  Health        10537 non-null  object\n",
            " 11  Fee           10537 non-null  int64 \n",
            " 12  PhotoAmt      10537 non-null  int64 \n",
            " 13  Target        10537 non-null  int64 \n",
            "dtypes: int64(4), object(10)\n",
            "memory usage: 1.1+ MB\n"
          ]
        }
      ],
      "source": [
        "train.info()"
      ]
    },
    {
      "cell_type": "code",
      "execution_count": 27,
      "metadata": {
        "id": "dx9Rzs0vf5B0",
        "colab": {
          "base_uri": "https://localhost:8080/"
        },
        "outputId": "296bcd4f-9e9e-4539-90b9-be14917b83db"
      },
      "outputs": [
        {
          "output_type": "stream",
          "name": "stdout",
          "text": [
            "column: Type unique_values: 2\n",
            "column: Breed1 unique_values: 165\n",
            "column: Gender unique_values: 2\n",
            "column: Color1 unique_values: 7\n",
            "column: Color2 unique_values: 7\n",
            "column: MaturitySize unique_values: 3\n",
            "column: FurLength unique_values: 3\n",
            "column: Vaccinated unique_values: 3\n",
            "column: Sterilized unique_values: 3\n",
            "column: Health unique_values: 3\n"
          ]
        }
      ],
      "source": [
        "for column in [\"Type\", \"Breed1\", \"Gender\", \"Color1\", \"Color2\", \"MaturitySize\", \"FurLength\", \"Vaccinated\", \"Sterilized\", \"Health\"]:\n",
        "    print(\"column:\", column, \"unique_values:\", len(train[column].unique()))"
      ]
    },
    {
      "cell_type": "code",
      "execution_count": 28,
      "metadata": {
        "id": "5KmcCLT_f5B1"
      },
      "outputs": [],
      "source": [
        "le = LabelEncoder()\n",
        "\n",
        "train['MaturitySize'] = le.fit_transform(train['MaturitySize'])\n",
        "\n",
        "train['FurLength'] = le.fit_transform(train['FurLength'])\n",
        "\n",
        "train['Health'] = le.fit_transform(train['Health'])"
      ]
    },
    {
      "cell_type": "code",
      "execution_count": 29,
      "metadata": {
        "id": "bim0mQD9f5B1"
      },
      "outputs": [],
      "source": [
        "train['Type'] = le.fit_transform(train['Type'])\n",
        "\n",
        "train['Gender'] = le.fit_transform(train['Gender'])"
      ]
    },
    {
      "cell_type": "code",
      "source": [
        "!pip install category_encoders"
      ],
      "metadata": {
        "colab": {
          "base_uri": "https://localhost:8080/"
        },
        "id": "6naPLGPFq6Gu",
        "outputId": "ca95b3eb-3db4-46d0-9cae-1a76bf8566bf"
      },
      "execution_count": 12,
      "outputs": [
        {
          "output_type": "stream",
          "name": "stdout",
          "text": [
            "Collecting category_encoders\n",
            "  Downloading category_encoders-2.6.4-py2.py3-none-any.whl.metadata (8.0 kB)\n",
            "Requirement already satisfied: numpy>=1.14.0 in /usr/local/lib/python3.10/dist-packages (from category_encoders) (1.26.4)\n",
            "Requirement already satisfied: scikit-learn>=0.20.0 in /usr/local/lib/python3.10/dist-packages (from category_encoders) (1.5.2)\n",
            "Requirement already satisfied: scipy>=1.0.0 in /usr/local/lib/python3.10/dist-packages (from category_encoders) (1.13.1)\n",
            "Requirement already satisfied: statsmodels>=0.9.0 in /usr/local/lib/python3.10/dist-packages (from category_encoders) (0.14.4)\n",
            "Requirement already satisfied: pandas>=1.0.5 in /usr/local/lib/python3.10/dist-packages (from category_encoders) (2.2.2)\n",
            "Requirement already satisfied: patsy>=0.5.1 in /usr/local/lib/python3.10/dist-packages (from category_encoders) (0.5.6)\n",
            "Requirement already satisfied: python-dateutil>=2.8.2 in /usr/local/lib/python3.10/dist-packages (from pandas>=1.0.5->category_encoders) (2.8.2)\n",
            "Requirement already satisfied: pytz>=2020.1 in /usr/local/lib/python3.10/dist-packages (from pandas>=1.0.5->category_encoders) (2024.2)\n",
            "Requirement already satisfied: tzdata>=2022.7 in /usr/local/lib/python3.10/dist-packages (from pandas>=1.0.5->category_encoders) (2024.2)\n",
            "Requirement already satisfied: six in /usr/local/lib/python3.10/dist-packages (from patsy>=0.5.1->category_encoders) (1.16.0)\n",
            "Requirement already satisfied: joblib>=1.2.0 in /usr/local/lib/python3.10/dist-packages (from scikit-learn>=0.20.0->category_encoders) (1.4.2)\n",
            "Requirement already satisfied: threadpoolctl>=3.1.0 in /usr/local/lib/python3.10/dist-packages (from scikit-learn>=0.20.0->category_encoders) (3.5.0)\n",
            "Requirement already satisfied: packaging>=21.3 in /usr/local/lib/python3.10/dist-packages (from statsmodels>=0.9.0->category_encoders) (24.1)\n",
            "Downloading category_encoders-2.6.4-py2.py3-none-any.whl (82 kB)\n",
            "\u001b[2K   \u001b[90m━━━━━━━━━━━━━━━━━━━━━━━━━━━━━━━━━━━━━━━━\u001b[0m \u001b[32m82.0/82.0 kB\u001b[0m \u001b[31m1.8 MB/s\u001b[0m eta \u001b[36m0:00:00\u001b[0m\n",
            "\u001b[?25hInstalling collected packages: category_encoders\n",
            "Successfully installed category_encoders-2.6.4\n"
          ]
        }
      ]
    },
    {
      "cell_type": "code",
      "execution_count": 30,
      "metadata": {
        "id": "ei-Ms7Avf5B1"
      },
      "outputs": [],
      "source": [
        "import category_encoders as ce\n",
        "\n",
        "binary_encoder = ce.BinaryEncoder()\n",
        "\n",
        "train_binary_Breed1 = binary_encoder.fit_transform(train['Breed1'])\n",
        "\n",
        "train_binary_Color1 =  binary_encoder.fit_transform(train['Color1'])\n",
        "\n",
        "train_binary_Color2 =  binary_encoder.fit_transform(train['Color2'])\n",
        "\n",
        "train_binary_Vaccinated =  binary_encoder.fit_transform(train['Vaccinated'])\n",
        "\n",
        "train_binary_Sterilized =  binary_encoder.fit_transform(train['Sterilized'])"
      ]
    },
    {
      "cell_type": "code",
      "execution_count": 31,
      "metadata": {
        "id": "0rQ9OgZsf5B2",
        "colab": {
          "base_uri": "https://localhost:8080/"
        },
        "outputId": "f55b661d-468d-4dda-ee88-13ef3e57c1da"
      },
      "outputs": [
        {
          "output_type": "stream",
          "name": "stdout",
          "text": [
            "<class 'pandas.core.frame.DataFrame'>\n",
            "RangeIndex: 10537 entries, 0 to 10536\n",
            "Data columns (total 27 columns):\n",
            " #   Column        Non-Null Count  Dtype\n",
            "---  ------        --------------  -----\n",
            " 0   Type          10537 non-null  int64\n",
            " 1   Age           10537 non-null  int64\n",
            " 2   Gender        10537 non-null  int64\n",
            " 3   MaturitySize  10537 non-null  int64\n",
            " 4   FurLength     10537 non-null  int64\n",
            " 5   Health        10537 non-null  int64\n",
            " 6   Fee           10537 non-null  int64\n",
            " 7   PhotoAmt      10537 non-null  int64\n",
            " 8   Target        10537 non-null  int64\n",
            " 9   Breed1_0      10537 non-null  int64\n",
            " 10  Breed1_1      10537 non-null  int64\n",
            " 11  Breed1_2      10537 non-null  int64\n",
            " 12  Breed1_3      10537 non-null  int64\n",
            " 13  Breed1_4      10537 non-null  int64\n",
            " 14  Breed1_5      10537 non-null  int64\n",
            " 15  Breed1_6      10537 non-null  int64\n",
            " 16  Breed1_7      10537 non-null  int64\n",
            " 17  Color1_0      10537 non-null  int64\n",
            " 18  Color1_1      10537 non-null  int64\n",
            " 19  Color1_2      10537 non-null  int64\n",
            " 20  Color2_0      10537 non-null  int64\n",
            " 21  Color2_1      10537 non-null  int64\n",
            " 22  Color2_2      10537 non-null  int64\n",
            " 23  Vaccinated_0  10537 non-null  int64\n",
            " 24  Vaccinated_1  10537 non-null  int64\n",
            " 25  Sterilized_0  10537 non-null  int64\n",
            " 26  Sterilized_1  10537 non-null  int64\n",
            "dtypes: int64(27)\n",
            "memory usage: 2.2 MB\n"
          ]
        }
      ],
      "source": [
        "train = pd.concat([train, train_binary_Breed1, train_binary_Color1, train_binary_Color2, train_binary_Vaccinated, train_binary_Sterilized], axis=1)\n",
        "columns = ['Breed1','Color1','Color2','Vaccinated','Sterilized']\n",
        "train.drop(columns = columns, inplace = True)\n",
        "\n",
        "train.info()"
      ]
    },
    {
      "cell_type": "code",
      "source": [
        "X= train.drop('Target',axis=1)\n",
        "y= train.Target"
      ],
      "metadata": {
        "id": "5LoV2zlxsDiZ"
      },
      "execution_count": 32,
      "outputs": []
    },
    {
      "cell_type": "code",
      "execution_count": 33,
      "metadata": {
        "id": "z5W5g9UVyTxG",
        "colab": {
          "base_uri": "https://localhost:8080/",
          "height": 255
        },
        "outputId": "67b3a87a-b568-44c6-f9e7-4289cf6aee5e"
      },
      "outputs": [
        {
          "output_type": "execute_result",
          "data": {
            "text/plain": [
              "       Type       Age    Gender  MaturitySize  FurLength    Health       Fee  \\\n",
              "0 -1.153719 -0.449427  1.136673      1.629890   0.790516 -0.194365  0.949788   \n",
              "1 -1.153719 -0.552656  1.136673     -0.226574  -0.845318 -0.194365 -0.297960   \n",
              "2  0.866680 -0.552656  1.136673     -0.226574  -0.845318 -0.194365 -0.297960   \n",
              "3  0.866680 -0.397813 -0.879677     -0.226574   0.790516 -0.194365  1.573661   \n",
              "4  0.866680 -0.552656  1.136673     -0.226574   0.790516 -0.194365 -0.297960   \n",
              "\n",
              "   PhotoAmt  Target  Breed1_0  ...  Color1_0  Color1_1  Color1_2  Color2_0  \\\n",
              "0 -0.830874       1 -0.073746  ... -0.521041 -0.861486  0.761850 -0.520158   \n",
              "1 -0.512200       1 -0.073746  ... -0.521041 -0.861486  0.761850 -0.520158   \n",
              "2  1.081167       1 -0.073746  ... -0.521041  1.160675 -1.312469 -0.520158   \n",
              "3  1.399841       1 -0.073746  ... -0.521041 -0.861486  0.761850 -0.520158   \n",
              "4 -0.193527       1 -0.073746  ... -0.521041 -0.861486  0.761850 -0.520158   \n",
              "\n",
              "   Color2_1  Color2_2  Vaccinated_0  Vaccinated_1  Sterilized_0  Sterilized_1  \n",
              "0 -1.286339  0.637933     -1.151487      0.386892     -0.730867      0.360165  \n",
              "1  0.777326 -1.567414      0.868360     -2.584453      1.368109     -2.776244  \n",
              "2 -1.286339  0.637933      0.868360      0.386892     -0.730867      0.360165  \n",
              "3  0.777326 -1.567414      0.868360      0.386892     -0.730867      0.360165  \n",
              "4  0.777326  0.637933     -1.151487      0.386892     -0.730867      0.360165  \n",
              "\n",
              "[5 rows x 27 columns]"
            ],
            "text/html": [
              "\n",
              "  <div id=\"df-303010aa-9ff1-4143-8860-7e718801c6cb\" class=\"colab-df-container\">\n",
              "    <div>\n",
              "<style scoped>\n",
              "    .dataframe tbody tr th:only-of-type {\n",
              "        vertical-align: middle;\n",
              "    }\n",
              "\n",
              "    .dataframe tbody tr th {\n",
              "        vertical-align: top;\n",
              "    }\n",
              "\n",
              "    .dataframe thead th {\n",
              "        text-align: right;\n",
              "    }\n",
              "</style>\n",
              "<table border=\"1\" class=\"dataframe\">\n",
              "  <thead>\n",
              "    <tr style=\"text-align: right;\">\n",
              "      <th></th>\n",
              "      <th>Type</th>\n",
              "      <th>Age</th>\n",
              "      <th>Gender</th>\n",
              "      <th>MaturitySize</th>\n",
              "      <th>FurLength</th>\n",
              "      <th>Health</th>\n",
              "      <th>Fee</th>\n",
              "      <th>PhotoAmt</th>\n",
              "      <th>Target</th>\n",
              "      <th>Breed1_0</th>\n",
              "      <th>...</th>\n",
              "      <th>Color1_0</th>\n",
              "      <th>Color1_1</th>\n",
              "      <th>Color1_2</th>\n",
              "      <th>Color2_0</th>\n",
              "      <th>Color2_1</th>\n",
              "      <th>Color2_2</th>\n",
              "      <th>Vaccinated_0</th>\n",
              "      <th>Vaccinated_1</th>\n",
              "      <th>Sterilized_0</th>\n",
              "      <th>Sterilized_1</th>\n",
              "    </tr>\n",
              "  </thead>\n",
              "  <tbody>\n",
              "    <tr>\n",
              "      <th>0</th>\n",
              "      <td>-1.153719</td>\n",
              "      <td>-0.449427</td>\n",
              "      <td>1.136673</td>\n",
              "      <td>1.629890</td>\n",
              "      <td>0.790516</td>\n",
              "      <td>-0.194365</td>\n",
              "      <td>0.949788</td>\n",
              "      <td>-0.830874</td>\n",
              "      <td>1</td>\n",
              "      <td>-0.073746</td>\n",
              "      <td>...</td>\n",
              "      <td>-0.521041</td>\n",
              "      <td>-0.861486</td>\n",
              "      <td>0.761850</td>\n",
              "      <td>-0.520158</td>\n",
              "      <td>-1.286339</td>\n",
              "      <td>0.637933</td>\n",
              "      <td>-1.151487</td>\n",
              "      <td>0.386892</td>\n",
              "      <td>-0.730867</td>\n",
              "      <td>0.360165</td>\n",
              "    </tr>\n",
              "    <tr>\n",
              "      <th>1</th>\n",
              "      <td>-1.153719</td>\n",
              "      <td>-0.552656</td>\n",
              "      <td>1.136673</td>\n",
              "      <td>-0.226574</td>\n",
              "      <td>-0.845318</td>\n",
              "      <td>-0.194365</td>\n",
              "      <td>-0.297960</td>\n",
              "      <td>-0.512200</td>\n",
              "      <td>1</td>\n",
              "      <td>-0.073746</td>\n",
              "      <td>...</td>\n",
              "      <td>-0.521041</td>\n",
              "      <td>-0.861486</td>\n",
              "      <td>0.761850</td>\n",
              "      <td>-0.520158</td>\n",
              "      <td>0.777326</td>\n",
              "      <td>-1.567414</td>\n",
              "      <td>0.868360</td>\n",
              "      <td>-2.584453</td>\n",
              "      <td>1.368109</td>\n",
              "      <td>-2.776244</td>\n",
              "    </tr>\n",
              "    <tr>\n",
              "      <th>2</th>\n",
              "      <td>0.866680</td>\n",
              "      <td>-0.552656</td>\n",
              "      <td>1.136673</td>\n",
              "      <td>-0.226574</td>\n",
              "      <td>-0.845318</td>\n",
              "      <td>-0.194365</td>\n",
              "      <td>-0.297960</td>\n",
              "      <td>1.081167</td>\n",
              "      <td>1</td>\n",
              "      <td>-0.073746</td>\n",
              "      <td>...</td>\n",
              "      <td>-0.521041</td>\n",
              "      <td>1.160675</td>\n",
              "      <td>-1.312469</td>\n",
              "      <td>-0.520158</td>\n",
              "      <td>-1.286339</td>\n",
              "      <td>0.637933</td>\n",
              "      <td>0.868360</td>\n",
              "      <td>0.386892</td>\n",
              "      <td>-0.730867</td>\n",
              "      <td>0.360165</td>\n",
              "    </tr>\n",
              "    <tr>\n",
              "      <th>3</th>\n",
              "      <td>0.866680</td>\n",
              "      <td>-0.397813</td>\n",
              "      <td>-0.879677</td>\n",
              "      <td>-0.226574</td>\n",
              "      <td>0.790516</td>\n",
              "      <td>-0.194365</td>\n",
              "      <td>1.573661</td>\n",
              "      <td>1.399841</td>\n",
              "      <td>1</td>\n",
              "      <td>-0.073746</td>\n",
              "      <td>...</td>\n",
              "      <td>-0.521041</td>\n",
              "      <td>-0.861486</td>\n",
              "      <td>0.761850</td>\n",
              "      <td>-0.520158</td>\n",
              "      <td>0.777326</td>\n",
              "      <td>-1.567414</td>\n",
              "      <td>0.868360</td>\n",
              "      <td>0.386892</td>\n",
              "      <td>-0.730867</td>\n",
              "      <td>0.360165</td>\n",
              "    </tr>\n",
              "    <tr>\n",
              "      <th>4</th>\n",
              "      <td>0.866680</td>\n",
              "      <td>-0.552656</td>\n",
              "      <td>1.136673</td>\n",
              "      <td>-0.226574</td>\n",
              "      <td>0.790516</td>\n",
              "      <td>-0.194365</td>\n",
              "      <td>-0.297960</td>\n",
              "      <td>-0.193527</td>\n",
              "      <td>1</td>\n",
              "      <td>-0.073746</td>\n",
              "      <td>...</td>\n",
              "      <td>-0.521041</td>\n",
              "      <td>-0.861486</td>\n",
              "      <td>0.761850</td>\n",
              "      <td>-0.520158</td>\n",
              "      <td>0.777326</td>\n",
              "      <td>0.637933</td>\n",
              "      <td>-1.151487</td>\n",
              "      <td>0.386892</td>\n",
              "      <td>-0.730867</td>\n",
              "      <td>0.360165</td>\n",
              "    </tr>\n",
              "  </tbody>\n",
              "</table>\n",
              "<p>5 rows × 27 columns</p>\n",
              "</div>\n",
              "    <div class=\"colab-df-buttons\">\n",
              "\n",
              "  <div class=\"colab-df-container\">\n",
              "    <button class=\"colab-df-convert\" onclick=\"convertToInteractive('df-303010aa-9ff1-4143-8860-7e718801c6cb')\"\n",
              "            title=\"Convert this dataframe to an interactive table.\"\n",
              "            style=\"display:none;\">\n",
              "\n",
              "  <svg xmlns=\"http://www.w3.org/2000/svg\" height=\"24px\" viewBox=\"0 -960 960 960\">\n",
              "    <path d=\"M120-120v-720h720v720H120Zm60-500h600v-160H180v160Zm220 220h160v-160H400v160Zm0 220h160v-160H400v160ZM180-400h160v-160H180v160Zm440 0h160v-160H620v160ZM180-180h160v-160H180v160Zm440 0h160v-160H620v160Z\"/>\n",
              "  </svg>\n",
              "    </button>\n",
              "\n",
              "  <style>\n",
              "    .colab-df-container {\n",
              "      display:flex;\n",
              "      gap: 12px;\n",
              "    }\n",
              "\n",
              "    .colab-df-convert {\n",
              "      background-color: #E8F0FE;\n",
              "      border: none;\n",
              "      border-radius: 50%;\n",
              "      cursor: pointer;\n",
              "      display: none;\n",
              "      fill: #1967D2;\n",
              "      height: 32px;\n",
              "      padding: 0 0 0 0;\n",
              "      width: 32px;\n",
              "    }\n",
              "\n",
              "    .colab-df-convert:hover {\n",
              "      background-color: #E2EBFA;\n",
              "      box-shadow: 0px 1px 2px rgba(60, 64, 67, 0.3), 0px 1px 3px 1px rgba(60, 64, 67, 0.15);\n",
              "      fill: #174EA6;\n",
              "    }\n",
              "\n",
              "    .colab-df-buttons div {\n",
              "      margin-bottom: 4px;\n",
              "    }\n",
              "\n",
              "    [theme=dark] .colab-df-convert {\n",
              "      background-color: #3B4455;\n",
              "      fill: #D2E3FC;\n",
              "    }\n",
              "\n",
              "    [theme=dark] .colab-df-convert:hover {\n",
              "      background-color: #434B5C;\n",
              "      box-shadow: 0px 1px 3px 1px rgba(0, 0, 0, 0.15);\n",
              "      filter: drop-shadow(0px 1px 2px rgba(0, 0, 0, 0.3));\n",
              "      fill: #FFFFFF;\n",
              "    }\n",
              "  </style>\n",
              "\n",
              "    <script>\n",
              "      const buttonEl =\n",
              "        document.querySelector('#df-303010aa-9ff1-4143-8860-7e718801c6cb button.colab-df-convert');\n",
              "      buttonEl.style.display =\n",
              "        google.colab.kernel.accessAllowed ? 'block' : 'none';\n",
              "\n",
              "      async function convertToInteractive(key) {\n",
              "        const element = document.querySelector('#df-303010aa-9ff1-4143-8860-7e718801c6cb');\n",
              "        const dataTable =\n",
              "          await google.colab.kernel.invokeFunction('convertToInteractive',\n",
              "                                                    [key], {});\n",
              "        if (!dataTable) return;\n",
              "\n",
              "        const docLinkHtml = 'Like what you see? Visit the ' +\n",
              "          '<a target=\"_blank\" href=https://colab.research.google.com/notebooks/data_table.ipynb>data table notebook</a>'\n",
              "          + ' to learn more about interactive tables.';\n",
              "        element.innerHTML = '';\n",
              "        dataTable['output_type'] = 'display_data';\n",
              "        await google.colab.output.renderOutput(dataTable, element);\n",
              "        const docLink = document.createElement('div');\n",
              "        docLink.innerHTML = docLinkHtml;\n",
              "        element.appendChild(docLink);\n",
              "      }\n",
              "    </script>\n",
              "  </div>\n",
              "\n",
              "\n",
              "<div id=\"df-5377ba41-4a82-4781-bf26-77b121396c34\">\n",
              "  <button class=\"colab-df-quickchart\" onclick=\"quickchart('df-5377ba41-4a82-4781-bf26-77b121396c34')\"\n",
              "            title=\"Suggest charts\"\n",
              "            style=\"display:none;\">\n",
              "\n",
              "<svg xmlns=\"http://www.w3.org/2000/svg\" height=\"24px\"viewBox=\"0 0 24 24\"\n",
              "     width=\"24px\">\n",
              "    <g>\n",
              "        <path d=\"M19 3H5c-1.1 0-2 .9-2 2v14c0 1.1.9 2 2 2h14c1.1 0 2-.9 2-2V5c0-1.1-.9-2-2-2zM9 17H7v-7h2v7zm4 0h-2V7h2v10zm4 0h-2v-4h2v4z\"/>\n",
              "    </g>\n",
              "</svg>\n",
              "  </button>\n",
              "\n",
              "<style>\n",
              "  .colab-df-quickchart {\n",
              "      --bg-color: #E8F0FE;\n",
              "      --fill-color: #1967D2;\n",
              "      --hover-bg-color: #E2EBFA;\n",
              "      --hover-fill-color: #174EA6;\n",
              "      --disabled-fill-color: #AAA;\n",
              "      --disabled-bg-color: #DDD;\n",
              "  }\n",
              "\n",
              "  [theme=dark] .colab-df-quickchart {\n",
              "      --bg-color: #3B4455;\n",
              "      --fill-color: #D2E3FC;\n",
              "      --hover-bg-color: #434B5C;\n",
              "      --hover-fill-color: #FFFFFF;\n",
              "      --disabled-bg-color: #3B4455;\n",
              "      --disabled-fill-color: #666;\n",
              "  }\n",
              "\n",
              "  .colab-df-quickchart {\n",
              "    background-color: var(--bg-color);\n",
              "    border: none;\n",
              "    border-radius: 50%;\n",
              "    cursor: pointer;\n",
              "    display: none;\n",
              "    fill: var(--fill-color);\n",
              "    height: 32px;\n",
              "    padding: 0;\n",
              "    width: 32px;\n",
              "  }\n",
              "\n",
              "  .colab-df-quickchart:hover {\n",
              "    background-color: var(--hover-bg-color);\n",
              "    box-shadow: 0 1px 2px rgba(60, 64, 67, 0.3), 0 1px 3px 1px rgba(60, 64, 67, 0.15);\n",
              "    fill: var(--button-hover-fill-color);\n",
              "  }\n",
              "\n",
              "  .colab-df-quickchart-complete:disabled,\n",
              "  .colab-df-quickchart-complete:disabled:hover {\n",
              "    background-color: var(--disabled-bg-color);\n",
              "    fill: var(--disabled-fill-color);\n",
              "    box-shadow: none;\n",
              "  }\n",
              "\n",
              "  .colab-df-spinner {\n",
              "    border: 2px solid var(--fill-color);\n",
              "    border-color: transparent;\n",
              "    border-bottom-color: var(--fill-color);\n",
              "    animation:\n",
              "      spin 1s steps(1) infinite;\n",
              "  }\n",
              "\n",
              "  @keyframes spin {\n",
              "    0% {\n",
              "      border-color: transparent;\n",
              "      border-bottom-color: var(--fill-color);\n",
              "      border-left-color: var(--fill-color);\n",
              "    }\n",
              "    20% {\n",
              "      border-color: transparent;\n",
              "      border-left-color: var(--fill-color);\n",
              "      border-top-color: var(--fill-color);\n",
              "    }\n",
              "    30% {\n",
              "      border-color: transparent;\n",
              "      border-left-color: var(--fill-color);\n",
              "      border-top-color: var(--fill-color);\n",
              "      border-right-color: var(--fill-color);\n",
              "    }\n",
              "    40% {\n",
              "      border-color: transparent;\n",
              "      border-right-color: var(--fill-color);\n",
              "      border-top-color: var(--fill-color);\n",
              "    }\n",
              "    60% {\n",
              "      border-color: transparent;\n",
              "      border-right-color: var(--fill-color);\n",
              "    }\n",
              "    80% {\n",
              "      border-color: transparent;\n",
              "      border-right-color: var(--fill-color);\n",
              "      border-bottom-color: var(--fill-color);\n",
              "    }\n",
              "    90% {\n",
              "      border-color: transparent;\n",
              "      border-bottom-color: var(--fill-color);\n",
              "    }\n",
              "  }\n",
              "</style>\n",
              "\n",
              "  <script>\n",
              "    async function quickchart(key) {\n",
              "      const quickchartButtonEl =\n",
              "        document.querySelector('#' + key + ' button');\n",
              "      quickchartButtonEl.disabled = true;  // To prevent multiple clicks.\n",
              "      quickchartButtonEl.classList.add('colab-df-spinner');\n",
              "      try {\n",
              "        const charts = await google.colab.kernel.invokeFunction(\n",
              "            'suggestCharts', [key], {});\n",
              "      } catch (error) {\n",
              "        console.error('Error during call to suggestCharts:', error);\n",
              "      }\n",
              "      quickchartButtonEl.classList.remove('colab-df-spinner');\n",
              "      quickchartButtonEl.classList.add('colab-df-quickchart-complete');\n",
              "    }\n",
              "    (() => {\n",
              "      let quickchartButtonEl =\n",
              "        document.querySelector('#df-5377ba41-4a82-4781-bf26-77b121396c34 button');\n",
              "      quickchartButtonEl.style.display =\n",
              "        google.colab.kernel.accessAllowed ? 'block' : 'none';\n",
              "    })();\n",
              "  </script>\n",
              "</div>\n",
              "    </div>\n",
              "  </div>\n"
            ],
            "application/vnd.google.colaboratory.intrinsic+json": {
              "type": "dataframe",
              "variable_name": "train"
            }
          },
          "metadata": {},
          "execution_count": 33
        }
      ],
      "source": [
        "for column in X.columns:\n",
        "  mean = train[column].mean()\n",
        "  std = train[column].std()\n",
        "  train[column] = (train[column]- mean)/std\n",
        "\n",
        "train.head()"
      ]
    },
    {
      "cell_type": "code",
      "execution_count": 35,
      "metadata": {
        "id": "IxvwowoojG9X",
        "colab": {
          "base_uri": "https://localhost:8080/"
        },
        "outputId": "698471ae-b4cc-4676-d175-bee4ff9b037a"
      },
      "outputs": [
        {
          "output_type": "stream",
          "name": "stdout",
          "text": [
            "Train examples: 9483 9483\n",
            "Validation examples: 1054 1054\n"
          ]
        }
      ],
      "source": [
        "X_train, X_valid, y_train, y_valid = train_test_split(X, y, train_size=0.9, shuffle=True, random_state=43)\n",
        "\n",
        "print('Train examples:', len(X_train), len(y_train))\n",
        "print('Validation examples:', len(X_valid), len(y_valid))"
      ]
    },
    {
      "cell_type": "markdown",
      "source": [
        "# Modeling with Keras(low level)"
      ],
      "metadata": {
        "id": "oTY3Etk3BYvW"
      }
    },
    {
      "cell_type": "code",
      "source": [
        "model1 = keras.Sequential()\n",
        "model1.add(keras.layers.Input(shape=(26,)))\n",
        "model1.add(keras.layers.Dense(5000, activation='relu'))\n",
        "model1.add(keras.layers.Dense(1000, activation='relu'))\n",
        "model1.add(keras.layers.Dense(500, activation='relu'))\n",
        "model1.add(keras.layers.Dense(1, activation='sigmoid'))"
      ],
      "metadata": {
        "id": "0_3fhXd8BoWN"
      },
      "execution_count": 36,
      "outputs": []
    },
    {
      "cell_type": "code",
      "source": [
        "model1.summary()"
      ],
      "metadata": {
        "colab": {
          "base_uri": "https://localhost:8080/",
          "height": 257
        },
        "id": "5xatT3IrCEhG",
        "outputId": "4dec8131-c7e9-4f71-9486-ce940d8f36ed"
      },
      "execution_count": 37,
      "outputs": [
        {
          "output_type": "display_data",
          "data": {
            "text/plain": [
              "\u001b[1mModel: \"sequential\"\u001b[0m\n"
            ],
            "text/html": [
              "<pre style=\"white-space:pre;overflow-x:auto;line-height:normal;font-family:Menlo,'DejaVu Sans Mono',consolas,'Courier New',monospace\"><span style=\"font-weight: bold\">Model: \"sequential\"</span>\n",
              "</pre>\n"
            ]
          },
          "metadata": {}
        },
        {
          "output_type": "display_data",
          "data": {
            "text/plain": [
              "┏━━━━━━━━━━━━━━━━━━━━━━━━━━━━━━━━━━━━━━┳━━━━━━━━━━━━━━━━━━━━━━━━━━━━━┳━━━━━━━━━━━━━━━━━┓\n",
              "┃\u001b[1m \u001b[0m\u001b[1mLayer (type)                        \u001b[0m\u001b[1m \u001b[0m┃\u001b[1m \u001b[0m\u001b[1mOutput Shape               \u001b[0m\u001b[1m \u001b[0m┃\u001b[1m \u001b[0m\u001b[1m        Param #\u001b[0m\u001b[1m \u001b[0m┃\n",
              "┡━━━━━━━━━━━━━━━━━━━━━━━━━━━━━━━━━━━━━━╇━━━━━━━━━━━━━━━━━━━━━━━━━━━━━╇━━━━━━━━━━━━━━━━━┩\n",
              "│ dense (\u001b[38;5;33mDense\u001b[0m)                        │ (\u001b[38;5;45mNone\u001b[0m, \u001b[38;5;34m5000\u001b[0m)                │         \u001b[38;5;34m135,000\u001b[0m │\n",
              "├──────────────────────────────────────┼─────────────────────────────┼─────────────────┤\n",
              "│ dense_1 (\u001b[38;5;33mDense\u001b[0m)                      │ (\u001b[38;5;45mNone\u001b[0m, \u001b[38;5;34m1000\u001b[0m)                │       \u001b[38;5;34m5,001,000\u001b[0m │\n",
              "├──────────────────────────────────────┼─────────────────────────────┼─────────────────┤\n",
              "│ dense_2 (\u001b[38;5;33mDense\u001b[0m)                      │ (\u001b[38;5;45mNone\u001b[0m, \u001b[38;5;34m500\u001b[0m)                 │         \u001b[38;5;34m500,500\u001b[0m │\n",
              "├──────────────────────────────────────┼─────────────────────────────┼─────────────────┤\n",
              "│ dense_3 (\u001b[38;5;33mDense\u001b[0m)                      │ (\u001b[38;5;45mNone\u001b[0m, \u001b[38;5;34m1\u001b[0m)                   │             \u001b[38;5;34m501\u001b[0m │\n",
              "└──────────────────────────────────────┴─────────────────────────────┴─────────────────┘\n"
            ],
            "text/html": [
              "<pre style=\"white-space:pre;overflow-x:auto;line-height:normal;font-family:Menlo,'DejaVu Sans Mono',consolas,'Courier New',monospace\">┏━━━━━━━━━━━━━━━━━━━━━━━━━━━━━━━━━━━━━━┳━━━━━━━━━━━━━━━━━━━━━━━━━━━━━┳━━━━━━━━━━━━━━━━━┓\n",
              "┃<span style=\"font-weight: bold\"> Layer (type)                         </span>┃<span style=\"font-weight: bold\"> Output Shape                </span>┃<span style=\"font-weight: bold\">         Param # </span>┃\n",
              "┡━━━━━━━━━━━━━━━━━━━━━━━━━━━━━━━━━━━━━━╇━━━━━━━━━━━━━━━━━━━━━━━━━━━━━╇━━━━━━━━━━━━━━━━━┩\n",
              "│ dense (<span style=\"color: #0087ff; text-decoration-color: #0087ff\">Dense</span>)                        │ (<span style=\"color: #00d7ff; text-decoration-color: #00d7ff\">None</span>, <span style=\"color: #00af00; text-decoration-color: #00af00\">5000</span>)                │         <span style=\"color: #00af00; text-decoration-color: #00af00\">135,000</span> │\n",
              "├──────────────────────────────────────┼─────────────────────────────┼─────────────────┤\n",
              "│ dense_1 (<span style=\"color: #0087ff; text-decoration-color: #0087ff\">Dense</span>)                      │ (<span style=\"color: #00d7ff; text-decoration-color: #00d7ff\">None</span>, <span style=\"color: #00af00; text-decoration-color: #00af00\">1000</span>)                │       <span style=\"color: #00af00; text-decoration-color: #00af00\">5,001,000</span> │\n",
              "├──────────────────────────────────────┼─────────────────────────────┼─────────────────┤\n",
              "│ dense_2 (<span style=\"color: #0087ff; text-decoration-color: #0087ff\">Dense</span>)                      │ (<span style=\"color: #00d7ff; text-decoration-color: #00d7ff\">None</span>, <span style=\"color: #00af00; text-decoration-color: #00af00\">500</span>)                 │         <span style=\"color: #00af00; text-decoration-color: #00af00\">500,500</span> │\n",
              "├──────────────────────────────────────┼─────────────────────────────┼─────────────────┤\n",
              "│ dense_3 (<span style=\"color: #0087ff; text-decoration-color: #0087ff\">Dense</span>)                      │ (<span style=\"color: #00d7ff; text-decoration-color: #00d7ff\">None</span>, <span style=\"color: #00af00; text-decoration-color: #00af00\">1</span>)                   │             <span style=\"color: #00af00; text-decoration-color: #00af00\">501</span> │\n",
              "└──────────────────────────────────────┴─────────────────────────────┴─────────────────┘\n",
              "</pre>\n"
            ]
          },
          "metadata": {}
        },
        {
          "output_type": "display_data",
          "data": {
            "text/plain": [
              "\u001b[1m Total params: \u001b[0m\u001b[38;5;34m5,637,001\u001b[0m (21.50 MB)\n"
            ],
            "text/html": [
              "<pre style=\"white-space:pre;overflow-x:auto;line-height:normal;font-family:Menlo,'DejaVu Sans Mono',consolas,'Courier New',monospace\"><span style=\"font-weight: bold\"> Total params: </span><span style=\"color: #00af00; text-decoration-color: #00af00\">5,637,001</span> (21.50 MB)\n",
              "</pre>\n"
            ]
          },
          "metadata": {}
        },
        {
          "output_type": "display_data",
          "data": {
            "text/plain": [
              "\u001b[1m Trainable params: \u001b[0m\u001b[38;5;34m5,637,001\u001b[0m (21.50 MB)\n"
            ],
            "text/html": [
              "<pre style=\"white-space:pre;overflow-x:auto;line-height:normal;font-family:Menlo,'DejaVu Sans Mono',consolas,'Courier New',monospace\"><span style=\"font-weight: bold\"> Trainable params: </span><span style=\"color: #00af00; text-decoration-color: #00af00\">5,637,001</span> (21.50 MB)\n",
              "</pre>\n"
            ]
          },
          "metadata": {}
        },
        {
          "output_type": "display_data",
          "data": {
            "text/plain": [
              "\u001b[1m Non-trainable params: \u001b[0m\u001b[38;5;34m0\u001b[0m (0.00 B)\n"
            ],
            "text/html": [
              "<pre style=\"white-space:pre;overflow-x:auto;line-height:normal;font-family:Menlo,'DejaVu Sans Mono',consolas,'Courier New',monospace\"><span style=\"font-weight: bold\"> Non-trainable params: </span><span style=\"color: #00af00; text-decoration-color: #00af00\">0</span> (0.00 B)\n",
              "</pre>\n"
            ]
          },
          "metadata": {}
        }
      ]
    },
    {
      "cell_type": "code",
      "source": [
        "model1.compile(optimizer = 'adam',\n",
        "              loss = keras.losses.BinaryCrossentropy(from_logits=False),\n",
        "              metrics = ['accuracy'])"
      ],
      "metadata": {
        "id": "mmKrF7TDCJ0q"
      },
      "execution_count": 38,
      "outputs": []
    },
    {
      "cell_type": "code",
      "source": [
        "epochs = 10\n",
        "BATCH_SIZE = 128\n",
        "\n",
        "history = model1.fit(X_train, y_train,\n",
        "                    batch_size=BATCH_SIZE,\n",
        "                    epochs=epochs,\n",
        "                    validation_data=(X_valid, y_valid))"
      ],
      "metadata": {
        "colab": {
          "base_uri": "https://localhost:8080/"
        },
        "id": "RDWGtOZHCNdc",
        "outputId": "b4e7ae02-0f85-4a66-9ab1-602cb5058693"
      },
      "execution_count": 39,
      "outputs": [
        {
          "output_type": "stream",
          "name": "stdout",
          "text": [
            "Epoch 1/10\n",
            "\u001b[1m75/75\u001b[0m \u001b[32m━━━━━━━━━━━━━━━━━━━━\u001b[0m\u001b[37m\u001b[0m \u001b[1m15s\u001b[0m 167ms/step - accuracy: 0.6702 - loss: 1.3369 - val_accuracy: 0.6869 - val_loss: 0.6031\n",
            "Epoch 2/10\n",
            "\u001b[1m75/75\u001b[0m \u001b[32m━━━━━━━━━━━━━━━━━━━━\u001b[0m\u001b[37m\u001b[0m \u001b[1m22s\u001b[0m 188ms/step - accuracy: 0.7301 - loss: 0.5471 - val_accuracy: 0.7021 - val_loss: 0.5483\n",
            "Epoch 3/10\n",
            "\u001b[1m75/75\u001b[0m \u001b[32m━━━━━━━━━━━━━━━━━━━━\u001b[0m\u001b[37m\u001b[0m \u001b[1m20s\u001b[0m 177ms/step - accuracy: 0.7308 - loss: 0.5421 - val_accuracy: 0.7334 - val_loss: 0.5333\n",
            "Epoch 4/10\n",
            "\u001b[1m75/75\u001b[0m \u001b[32m━━━━━━━━━━━━━━━━━━━━\u001b[0m\u001b[37m\u001b[0m \u001b[1m21s\u001b[0m 191ms/step - accuracy: 0.7404 - loss: 0.5287 - val_accuracy: 0.7381 - val_loss: 0.5566\n",
            "Epoch 5/10\n",
            "\u001b[1m75/75\u001b[0m \u001b[32m━━━━━━━━━━━━━━━━━━━━\u001b[0m\u001b[37m\u001b[0m \u001b[1m15s\u001b[0m 206ms/step - accuracy: 0.7560 - loss: 0.5231 - val_accuracy: 0.7287 - val_loss: 0.5266\n",
            "Epoch 6/10\n",
            "\u001b[1m75/75\u001b[0m \u001b[32m━━━━━━━━━━━━━━━━━━━━\u001b[0m\u001b[37m\u001b[0m \u001b[1m19s\u001b[0m 183ms/step - accuracy: 0.7378 - loss: 0.5185 - val_accuracy: 0.7391 - val_loss: 0.5176\n",
            "Epoch 7/10\n",
            "\u001b[1m75/75\u001b[0m \u001b[32m━━━━━━━━━━━━━━━━━━━━\u001b[0m\u001b[37m\u001b[0m \u001b[1m20s\u001b[0m 178ms/step - accuracy: 0.7461 - loss: 0.5154 - val_accuracy: 0.7277 - val_loss: 0.5144\n",
            "Epoch 8/10\n",
            "\u001b[1m75/75\u001b[0m \u001b[32m━━━━━━━━━━━━━━━━━━━━\u001b[0m\u001b[37m\u001b[0m \u001b[1m21s\u001b[0m 184ms/step - accuracy: 0.7518 - loss: 0.5097 - val_accuracy: 0.7400 - val_loss: 0.5190\n",
            "Epoch 9/10\n",
            "\u001b[1m75/75\u001b[0m \u001b[32m━━━━━━━━━━━━━━━━━━━━\u001b[0m\u001b[37m\u001b[0m \u001b[1m20s\u001b[0m 173ms/step - accuracy: 0.7613 - loss: 0.4954 - val_accuracy: 0.7476 - val_loss: 0.5121\n",
            "Epoch 10/10\n",
            "\u001b[1m75/75\u001b[0m \u001b[32m━━━━━━━━━━━━━━━━━━━━\u001b[0m\u001b[37m\u001b[0m \u001b[1m21s\u001b[0m 186ms/step - accuracy: 0.7603 - loss: 0.4963 - val_accuracy: 0.7410 - val_loss: 0.5068\n"
          ]
        }
      ]
    },
    {
      "cell_type": "markdown",
      "source": [
        "# Modeling with Tensorflow(high level)"
      ],
      "metadata": {
        "id": "MAHA0SbZCT0k"
      }
    },
    {
      "cell_type": "code",
      "execution_count": 40,
      "metadata": {
        "id": "l91C4PDDyTxG"
      },
      "outputs": [],
      "source": [
        "train = train.astype(np.float32)"
      ]
    },
    {
      "cell_type": "code",
      "execution_count": 41,
      "metadata": {
        "id": "rfk6rpEFyTxG"
      },
      "outputs": [],
      "source": [
        "train_dataset = tf.data.Dataset.from_tensor_slices((X_train,y_train))\n",
        "valid_dataset = tf.data.Dataset.from_tensor_slices((X_valid,y_valid))"
      ]
    },
    {
      "cell_type": "code",
      "execution_count": 42,
      "metadata": {
        "id": "PnNJ6CFG5oR4"
      },
      "outputs": [],
      "source": [
        "class CustomModel(tf.Module):\n",
        "\n",
        "    def __init__(self, input_features):\n",
        "\n",
        "        initializer = tf.initializers.GlorotUniform()\n",
        "        self.w1 = tf.Variable(initializer(shape=[input_features,5000]), name = 'w1')\n",
        "        self.bias1 = tf.Variable(tf.ones([5000]), name = 'bias1')\n",
        "\n",
        "        self.w2 = tf.Variable(initializer(shape=[5000,1000]),name='w2')\n",
        "        self.bias2 = tf.Variable(tf.ones([1000]), name='bias2')\n",
        "\n",
        "        self.w3 = tf.Variable(initializer(shape=[1000,500]),name='w3')\n",
        "        self.bias3 = tf.Variable(tf.ones([500]), name='bias3')\n",
        "\n",
        "        self.w_output = tf.Variable(initializer(shape=[500,1]),name='w_output')\n",
        "        self.bias_output = tf.Variable(tf.ones([1]),name='bias_output')\n",
        "\n",
        "\n",
        "    def forward(self, x):\n",
        "        x = tf.cast(x, tf.float32)\n",
        "        self.first = tf.matmul(x, self.w1) + self.bias1\n",
        "        self.first = tf.nn.relu(self.first,name='1st')\n",
        "        self.second = tf.matmul(self.first, self.w2) + self.bias2\n",
        "        self.second = tf.nn.relu(self.second,name='2nd')\n",
        "        self.third = tf.matmul(self.second, self.w3) + self.bias3\n",
        "        self.third = tf.nn.relu(self.third,name='3nd')\n",
        "        self.output = tf.matmul(self.third, self.w_output) + self.bias_output\n",
        "        self.output = tf.nn.sigmoid(self.output,name='output')\n",
        "        return self.output\n",
        "\n",
        "    def predict(self, x):\n",
        "        batched_dataset = x.batch(len(x))\n",
        "        X_batch = next(iter(batched_dataset))\n",
        "        x = self.forward(X_batch)\n",
        "        return x\n",
        "\n",
        "    @tf.function\n",
        "    def fit_one_batch(self, inputs, targets, optimizer, loss_fn):\n",
        "        with tf.GradientTape() as tape:\n",
        "            predictions = self.forward(inputs)\n",
        "            loss = loss_fn(targets, predictions)\n",
        "\n",
        "        gradients = tape.gradient(loss, self.trainable_variables)\n",
        "        optimizer.apply_gradients(zip(gradients,self.trainable_variables))\n",
        "\n",
        "        return loss\n",
        "\n",
        "\n",
        "    def fit(self, dataset, valid_dataset,  epochs, BATCH_SIZE,\n",
        "            optimizer = tf.optimizers.Adam(), loss_fn = tf.losses.BinaryCrossentropy()):\n",
        "\n",
        "        batched_validation_dataset = valid_dataset.batch(len(valid_dataset))\n",
        "        X_valid, y_valid = next(iter(batched_validation_dataset))\n",
        "\n",
        "        batched_dataset = dataset.batch(BATCH_SIZE)\n",
        "\n",
        "\n",
        "        for epoch in range(epochs):\n",
        "            for X_batch, y_batch in batched_dataset:\n",
        "                loss = self.fit_one_batch(X_batch, y_batch, optimizer, loss_fn)\n",
        "\n",
        "            val_predictions = self.forward(X_valid)\n",
        "            val_loss = loss_fn(y_valid, val_predictions)\n",
        "\n",
        "            val_f1 = f1_score(y_valid.numpy(), val_predictions.numpy() > 0.5, average = 'weighted')\n",
        "\n",
        "            print(f'Epoch {epoch+1}, Loss: {loss}, Validation Loss: {val_loss.numpy()}, Validation F1 score: {val_f1}')\n"
      ]
    },
    {
      "cell_type": "code",
      "execution_count": 43,
      "metadata": {
        "id": "JzjykerN9DiH",
        "colab": {
          "base_uri": "https://localhost:8080/"
        },
        "outputId": "cb70fc69-b202-4b5e-a2af-de2b88bc2509"
      },
      "outputs": [
        {
          "output_type": "stream",
          "name": "stdout",
          "text": [
            "Epoch 1, Loss: 0.30230817198753357, Validation Loss: 0.8491266965866089, Validation F1 score: 0.6168023236459269\n",
            "Epoch 2, Loss: 0.25087547302246094, Validation Loss: 0.6544537544250488, Validation F1 score: 0.6163391869231547\n",
            "Epoch 3, Loss: 0.2826974391937256, Validation Loss: 0.5252665281295776, Validation F1 score: 0.6935528914859459\n",
            "Epoch 4, Loss: 0.26406148076057434, Validation Loss: 0.523002028465271, Validation F1 score: 0.6864104820158375\n",
            "Epoch 5, Loss: 0.24383804202079773, Validation Loss: 0.5779050588607788, Validation F1 score: 0.6176207041956567\n",
            "Epoch 6, Loss: 0.24395577609539032, Validation Loss: 0.5159646272659302, Validation F1 score: 0.708548738589817\n",
            "Epoch 7, Loss: 0.24097727239131927, Validation Loss: 0.5196183919906616, Validation F1 score: 0.6672250508727795\n",
            "Epoch 8, Loss: 0.24230074882507324, Validation Loss: 0.5265376567840576, Validation F1 score: 0.6480947317506849\n",
            "Epoch 9, Loss: 0.23925498127937317, Validation Loss: 0.5210810899734497, Validation F1 score: 0.6630656744627486\n",
            "Epoch 10, Loss: 0.24117912352085114, Validation Loss: 0.5189216732978821, Validation F1 score: 0.6569281223307017\n",
            "Epoch 11, Loss: 0.24152086675167084, Validation Loss: 0.5206721425056458, Validation F1 score: 0.6581276222460355\n",
            "Epoch 12, Loss: 0.23785899579524994, Validation Loss: 0.5281338691711426, Validation F1 score: 0.6411974559710979\n",
            "Epoch 13, Loss: 0.24085740745067596, Validation Loss: 0.5374908447265625, Validation F1 score: 0.6180914475091823\n",
            "Epoch 14, Loss: 0.2800770401954651, Validation Loss: 0.5106596946716309, Validation F1 score: 0.7318941366803079\n",
            "Epoch 15, Loss: 0.23739740252494812, Validation Loss: 0.5265926718711853, Validation F1 score: 0.6451414816206845\n",
            "Epoch 16, Loss: 0.2324204295873642, Validation Loss: 0.5097838044166565, Validation F1 score: 0.6369543349332681\n",
            "Epoch 17, Loss: 0.24713298678398132, Validation Loss: 0.5184022188186646, Validation F1 score: 0.6548301134699387\n",
            "Epoch 18, Loss: 0.24550746381282806, Validation Loss: 0.5215225219726562, Validation F1 score: 0.6353183753204157\n",
            "Epoch 19, Loss: 0.24183794856071472, Validation Loss: 0.5155386328697205, Validation F1 score: 0.6580425838566726\n",
            "Epoch 20, Loss: 0.2472027689218521, Validation Loss: 0.5153002738952637, Validation F1 score: 0.654964135120164\n",
            "Epoch 21, Loss: 0.2475723922252655, Validation Loss: 0.510357141494751, Validation F1 score: 0.6666831506346613\n",
            "Epoch 22, Loss: 0.2452109307050705, Validation Loss: 0.5138723850250244, Validation F1 score: 0.6624681710585095\n",
            "Epoch 23, Loss: 0.2523515522480011, Validation Loss: 0.5106842517852783, Validation F1 score: 0.6548301134699387\n",
            "Epoch 24, Loss: 0.2461632490158081, Validation Loss: 0.5146265625953674, Validation F1 score: 0.672796629712922\n",
            "Epoch 25, Loss: 0.25291386246681213, Validation Loss: 0.5158458352088928, Validation F1 score: 0.6691805630897487\n",
            "Epoch 26, Loss: 0.24085144698619843, Validation Loss: 0.5021325945854187, Validation F1 score: 0.6999271385350562\n",
            "Epoch 27, Loss: 0.24884578585624695, Validation Loss: 0.5102213025093079, Validation F1 score: 0.6846798911131116\n",
            "Epoch 28, Loss: 0.2497471123933792, Validation Loss: 0.49922049045562744, Validation F1 score: 0.6982275066086288\n",
            "Epoch 29, Loss: 0.25027942657470703, Validation Loss: 0.5040625333786011, Validation F1 score: 0.7064295206570408\n",
            "Epoch 30, Loss: 0.23969082534313202, Validation Loss: 0.4992470145225525, Validation F1 score: 0.7122026820719791\n",
            "Epoch 31, Loss: 0.2445778250694275, Validation Loss: 0.5069696307182312, Validation F1 score: 0.68605752431846\n",
            "Epoch 32, Loss: 0.2507067620754242, Validation Loss: 0.5016672611236572, Validation F1 score: 0.7017346517386471\n",
            "Epoch 33, Loss: 0.25087738037109375, Validation Loss: 0.5029141902923584, Validation F1 score: 0.6931276391461209\n",
            "Epoch 34, Loss: 0.25651514530181885, Validation Loss: 0.4990192651748657, Validation F1 score: 0.7076493241965587\n",
            "Epoch 35, Loss: 0.25662606954574585, Validation Loss: 0.5005383491516113, Validation F1 score: 0.7052442663137558\n",
            "Epoch 36, Loss: 0.24276964366436005, Validation Loss: 0.5001628994941711, Validation F1 score: 0.7099967903530104\n",
            "Epoch 37, Loss: 0.2452489584684372, Validation Loss: 0.5017580986022949, Validation F1 score: 0.7046282541161709\n",
            "Epoch 38, Loss: 0.2494417428970337, Validation Loss: 0.49934569001197815, Validation F1 score: 0.7107420091305532\n",
            "Epoch 39, Loss: 0.24305541813373566, Validation Loss: 0.5010874271392822, Validation F1 score: 0.7054261251410192\n",
            "Epoch 40, Loss: 0.22458265721797943, Validation Loss: 0.501166820526123, Validation F1 score: 0.7107401014575627\n",
            "Epoch 41, Loss: 0.230148583650589, Validation Loss: 0.5008750557899475, Validation F1 score: 0.7121405134714469\n",
            "Epoch 42, Loss: 0.22211496531963348, Validation Loss: 0.49967387318611145, Validation F1 score: 0.7092678398660168\n",
            "Epoch 43, Loss: 0.21986544132232666, Validation Loss: 0.5037126541137695, Validation F1 score: 0.7324456151283618\n",
            "Epoch 44, Loss: 0.22310999035835266, Validation Loss: 0.5032033920288086, Validation F1 score: 0.7210379723437104\n",
            "Epoch 45, Loss: 0.2114792764186859, Validation Loss: 0.5021104216575623, Validation F1 score: 0.7189913000105512\n",
            "Epoch 46, Loss: 0.20456112921237946, Validation Loss: 0.5060150027275085, Validation F1 score: 0.7153643682919747\n",
            "Epoch 47, Loss: 0.21175669133663177, Validation Loss: 0.5032613277435303, Validation F1 score: 0.7089303363763676\n",
            "Epoch 48, Loss: 0.21860894560813904, Validation Loss: 0.49897196888923645, Validation F1 score: 0.72088287274674\n",
            "Epoch 49, Loss: 0.2111404687166214, Validation Loss: 0.5018580555915833, Validation F1 score: 0.7161260622377014\n",
            "Epoch 50, Loss: 0.2146286964416504, Validation Loss: 0.5032811760902405, Validation F1 score: 0.7128927099321368\n",
            "Epoch 51, Loss: 0.2201901227235794, Validation Loss: 0.5031013488769531, Validation F1 score: 0.7153848302221388\n",
            "Epoch 52, Loss: 0.2200872153043747, Validation Loss: 0.50480055809021, Validation F1 score: 0.7092724867102049\n",
            "Epoch 53, Loss: 0.19913792610168457, Validation Loss: 0.5051648020744324, Validation F1 score: 0.7085395981950142\n",
            "Epoch 54, Loss: 0.20458438992500305, Validation Loss: 0.5008341670036316, Validation F1 score: 0.7092931618557505\n",
            "Epoch 55, Loss: 0.21810364723205566, Validation Loss: 0.5030253529548645, Validation F1 score: 0.713625167846006\n",
            "Epoch 56, Loss: 0.20177888870239258, Validation Loss: 0.5057457685470581, Validation F1 score: 0.7200073470921369\n",
            "Epoch 57, Loss: 0.22744686901569366, Validation Loss: 0.5047206878662109, Validation F1 score: 0.6955973156420024\n",
            "Epoch 58, Loss: 0.21772697567939758, Validation Loss: 0.5107555389404297, Validation F1 score: 0.6860073284041092\n",
            "Epoch 59, Loss: 0.2098201960325241, Validation Loss: 0.5053330063819885, Validation F1 score: 0.7220748507568187\n",
            "Epoch 60, Loss: 0.21025829017162323, Validation Loss: 0.5084782838821411, Validation F1 score: 0.7172835951247563\n",
            "Epoch 61, Loss: 0.2238381803035736, Validation Loss: 0.5077176094055176, Validation F1 score: 0.70708460926562\n",
            "Epoch 62, Loss: 0.23254823684692383, Validation Loss: 0.506892204284668, Validation F1 score: 0.7041221531620526\n",
            "Epoch 63, Loss: 0.21437929570674896, Validation Loss: 0.5121797323226929, Validation F1 score: 0.7078255365521614\n",
            "Epoch 64, Loss: 0.22550901770591736, Validation Loss: 0.5052514672279358, Validation F1 score: 0.7171139672106328\n"
          ]
        }
      ],
      "source": [
        "input_shape = 26 #train.shape[1] - 1\n",
        "model = CustomModel(input_shape)\n",
        "EPOCHS=64\n",
        "BATCH_SIZE=128\n",
        "model.fit(train_dataset, valid_dataset, epochs=EPOCHS, BATCH_SIZE=BATCH_SIZE)"
      ]
    }
  ],
  "metadata": {
    "colab": {
      "provenance": []
    },
    "kernelspec": {
      "display_name": "Python 3 (ipykernel)",
      "language": "python",
      "name": "python3"
    },
    "language_info": {
      "codemirror_mode": {
        "name": "ipython",
        "version": 3
      },
      "file_extension": ".py",
      "mimetype": "text/x-python",
      "name": "python",
      "nbconvert_exporter": "python",
      "pygments_lexer": "ipython3",
      "version": "3.9.6"
    },
    "vscode": {
      "interpreter": {
        "hash": "44e7e1b8fa2096bd5707ed7fd18b1724a2db25f4c565a7673f8b6e7bfc49d25d"
      }
    }
  },
  "nbformat": 4,
  "nbformat_minor": 0
}